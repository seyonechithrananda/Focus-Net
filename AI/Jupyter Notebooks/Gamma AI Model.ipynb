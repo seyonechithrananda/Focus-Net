{
 "cells": [
  {
   "cell_type": "code",
   "execution_count": null,
   "metadata": {
    "pycharm": {
     "is_executing": true,
     "name": "#%%\n"
    }
   },
   "outputs": [],
   "source": [
    "import numpy as np\n",
    "from keras.models import load_model\n",
    "import socket\n",
    "import struct\n",
    "\n",
    "model = load_model(\"GAI-sig-500-0.0001.hdf5\")\n",
    "\n",
    "def getBand(band):\n",
    "  data, addr = sock.recvfrom(1024) # buffer size is 1024 bytes\n",
    "  if band in str(data):\n",
    "    EEG = struct.unpack('>32s8sdddd', data)\n",
    "    #print(EEG[-3:-1])\n",
    "    return np.array(EEG[-3:-1])\n",
    "UDP_IP = \"127.0.0.1\"\n",
    "UDP_PORT = 6000\n",
    "\n",
    "sock = socket.socket(socket.AF_INET, # Internet\n",
    "                     socket.SOCK_DGRAM) # UDP\n",
    "sock.bind((UDP_IP, UDP_PORT))\n",
    "def get_focus():\n",
    "    average = np.array([0, 0], dtype='float64')\n",
    "    for i in range(25):        \n",
    "        eegData = getBand(\"gamma\")\n",
    "        if eegData is not None:\n",
    "            #print(eegData)\n",
    "            average += eegData\n",
    "    average /= 5\n",
    "    average = np.array([average])\n",
    "\n",
    "    prediction = model.predict(average)\n",
    "    prediction = [prediction[0][0]*100, prediction[0][1]*100]\n",
    "    \n",
    "    prediction[0] = round(prediction[0])\n",
    "    prediction[1] = round(prediction[1])\n",
    "    \n",
    "    final = ''\n",
    "    '''\n",
    "    if abs(prediction[0] - prediction[1]) <= 10:\n",
    "        final = 'Neutral'\n",
    "    elif prediction[0] > prediction[1]:\n",
    "        final = 'Concentrated'\n",
    "    else:\n",
    "        final = 'Relaxed'\n",
    "    '''\n",
    "    if prediction[0] >= 50:\n",
    "        final=\"Concentrated\"\n",
    "    else:\n",
    "        final=\"Relaxed\"\n",
    "    \n",
    "    #print(\"C: \", str(prediction[0])+\"%\" , \"R\", str(prediction[1])+\"%\", average, final)\n",
    "    #print(int(prediction[0]))\n",
    "    return int(prediction[0])\n",
    "import pygame as pg\n",
    "pg.init()\n",
    "screen = pg.display.set_mode((300, 300))\n",
    "clock = pg.time.Clock()\n",
    "focus = pg.Rect(100, 200, 50 , -100)\n",
    "running = True\n",
    "while running:\n",
    "    for event in pg.event.get():\n",
    "        if event.type == pg.QUIT:\n",
    "            pg.quit()\n",
    "            Running = False            \n",
    "    focus = get_focus()\n",
    "    print(focus)\n",
    "    pg.draw.rect(screen, (0, 0, 255), (100, 200 - focus, 50 , focus))\n",
    "    pg.display.update()\n",
    "    clock.tick(60)"
   ]
  },
  {
   "cell_type": "code",
   "execution_count": null,
   "metadata": {
    "pycharm": {
     "is_executing": true,
     "name": "#%%\n"
    }
   },
   "outputs": [],
   "source": [
    "\n"
   ]
  },
  {
   "cell_type": "code",
   "execution_count": null,
   "metadata": {
    "pycharm": {
     "is_executing": true,
     "name": "#%%\n"
    }
   },
   "outputs": [],
   "source": []
  },
  {
   "cell_type": "code",
   "execution_count": null,
   "metadata": {
    "pycharm": {
     "is_executing": true,
     "name": "#%%\n"
    }
   },
   "outputs": [],
   "source": []
  },
  {
   "cell_type": "code",
   "execution_count": null,
   "metadata": {
    "pycharm": {
     "name": "#%%\n"
    }
   },
   "outputs": [],
   "source": [
    "\n"
   ]
  }
 ],
 "metadata": {
  "kernelspec": {
   "display_name": "Python 3",
   "language": "python",
   "name": "python3"
  },
  "language_info": {
   "codemirror_mode": {
    "name": "ipython",
    "version": 3
   },
   "file_extension": ".py",
   "mimetype": "text/x-python",
   "name": "python",
   "nbconvert_exporter": "python",
   "pygments_lexer": "ipython3",
   "version": "3.7.3"
  },
  "pycharm": {
   "stem_cell": {
    "cell_type": "raw",
    "metadata": {
     "collapsed": false
    },
    "source": []
   }
  }
 },
 "nbformat": 4,
 "nbformat_minor": 2
}
