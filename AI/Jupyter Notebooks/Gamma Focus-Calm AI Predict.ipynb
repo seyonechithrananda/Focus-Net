{
 "cells": [
  {
   "cell_type": "code",
   "execution_count": 1,
   "metadata": {},
   "outputs": [
    {
     "ename": "KeyboardInterrupt",
     "evalue": "",
     "output_type": "error",
     "traceback": [
      "\u001b[0;31m---------------------------------------------------------------------------\u001b[0m",
      "\u001b[0;31mKeyboardInterrupt\u001b[0m                         Traceback (most recent call last)",
      "\u001b[0;32m<ipython-input-1-4745a9aff793>\u001b[0m in \u001b[0;36m<module>\u001b[0;34m\u001b[0m\n\u001b[1;32m     63\u001b[0m \u001b[0;31m#            pg.quit()\u001b[0m\u001b[0;34m\u001b[0m\u001b[0;34m\u001b[0m\u001b[0;34m\u001b[0m\u001b[0m\n\u001b[1;32m     64\u001b[0m             \u001b[0;31m#Running = False\u001b[0m\u001b[0;34m\u001b[0m\u001b[0;34m\u001b[0m\u001b[0;34m\u001b[0m\u001b[0m\n\u001b[0;32m---> 65\u001b[0;31m \u001b[0mfocus\u001b[0m \u001b[0;34m=\u001b[0m \u001b[0mget_focus\u001b[0m\u001b[0;34m(\u001b[0m\u001b[0;34m)\u001b[0m\u001b[0;34m\u001b[0m\u001b[0;34m\u001b[0m\u001b[0m\n\u001b[0m\u001b[1;32m     66\u001b[0m \u001b[0mprint\u001b[0m\u001b[0;34m(\u001b[0m\u001b[0mfocus\u001b[0m\u001b[0;34m)\u001b[0m\u001b[0;34m\u001b[0m\u001b[0;34m\u001b[0m\u001b[0m\n\u001b[1;32m     67\u001b[0m     \u001b[0;31m#pg.draw.rect(screen, (0, 0, 255), (100, 200 - focus, 50 , focus))\u001b[0m\u001b[0;34m\u001b[0m\u001b[0;34m\u001b[0m\u001b[0;34m\u001b[0m\u001b[0m\n",
      "\u001b[0;32m<ipython-input-1-4745a9aff793>\u001b[0m in \u001b[0;36mget_focus\u001b[0;34m()\u001b[0m\n\u001b[1;32m     22\u001b[0m     \u001b[0maverage\u001b[0m \u001b[0;34m=\u001b[0m \u001b[0mnp\u001b[0m\u001b[0;34m.\u001b[0m\u001b[0marray\u001b[0m\u001b[0;34m(\u001b[0m\u001b[0;34m[\u001b[0m\u001b[0;36m0\u001b[0m\u001b[0;34m,\u001b[0m \u001b[0;36m0\u001b[0m\u001b[0;34m]\u001b[0m\u001b[0;34m,\u001b[0m \u001b[0mdtype\u001b[0m\u001b[0;34m=\u001b[0m\u001b[0;34m'float64'\u001b[0m\u001b[0;34m)\u001b[0m\u001b[0;34m\u001b[0m\u001b[0;34m\u001b[0m\u001b[0m\n\u001b[1;32m     23\u001b[0m     \u001b[0;32mfor\u001b[0m \u001b[0mi\u001b[0m \u001b[0;32min\u001b[0m \u001b[0mrange\u001b[0m\u001b[0;34m(\u001b[0m\u001b[0;36m25\u001b[0m\u001b[0;34m)\u001b[0m\u001b[0;34m:\u001b[0m\u001b[0;34m\u001b[0m\u001b[0;34m\u001b[0m\u001b[0m\n\u001b[0;32m---> 24\u001b[0;31m         \u001b[0meegData\u001b[0m \u001b[0;34m=\u001b[0m \u001b[0mgetBand\u001b[0m\u001b[0;34m(\u001b[0m\u001b[0;34m\"gamma\"\u001b[0m\u001b[0;34m)\u001b[0m\u001b[0;34m\u001b[0m\u001b[0;34m\u001b[0m\u001b[0m\n\u001b[0m\u001b[1;32m     25\u001b[0m         \u001b[0;32mif\u001b[0m \u001b[0meegData\u001b[0m \u001b[0;32mis\u001b[0m \u001b[0;32mnot\u001b[0m \u001b[0;32mNone\u001b[0m\u001b[0;34m:\u001b[0m\u001b[0;34m\u001b[0m\u001b[0;34m\u001b[0m\u001b[0m\n\u001b[1;32m     26\u001b[0m             \u001b[0;31m#print(eegData)\u001b[0m\u001b[0;34m\u001b[0m\u001b[0;34m\u001b[0m\u001b[0;34m\u001b[0m\u001b[0m\n",
      "\u001b[0;32m<ipython-input-1-4745a9aff793>\u001b[0m in \u001b[0;36mgetBand\u001b[0;34m(band)\u001b[0m\n\u001b[1;32m      8\u001b[0m \u001b[0;34m\u001b[0m\u001b[0m\n\u001b[1;32m      9\u001b[0m \u001b[0;32mdef\u001b[0m \u001b[0mgetBand\u001b[0m\u001b[0;34m(\u001b[0m\u001b[0mband\u001b[0m\u001b[0;34m)\u001b[0m\u001b[0;34m:\u001b[0m\u001b[0;34m\u001b[0m\u001b[0;34m\u001b[0m\u001b[0m\n\u001b[0;32m---> 10\u001b[0;31m   \u001b[0mdata\u001b[0m\u001b[0;34m,\u001b[0m \u001b[0maddr\u001b[0m \u001b[0;34m=\u001b[0m \u001b[0msock\u001b[0m\u001b[0;34m.\u001b[0m\u001b[0mrecvfrom\u001b[0m\u001b[0;34m(\u001b[0m\u001b[0;36m1024\u001b[0m\u001b[0;34m)\u001b[0m \u001b[0;31m# buffer size is 1024 bytes\u001b[0m\u001b[0;34m\u001b[0m\u001b[0;34m\u001b[0m\u001b[0m\n\u001b[0m\u001b[1;32m     11\u001b[0m   \u001b[0;32mif\u001b[0m \u001b[0mband\u001b[0m \u001b[0;32min\u001b[0m \u001b[0mstr\u001b[0m\u001b[0;34m(\u001b[0m\u001b[0mdata\u001b[0m\u001b[0;34m)\u001b[0m\u001b[0;34m:\u001b[0m\u001b[0;34m\u001b[0m\u001b[0;34m\u001b[0m\u001b[0m\n\u001b[1;32m     12\u001b[0m     \u001b[0mEEG\u001b[0m \u001b[0;34m=\u001b[0m \u001b[0mstruct\u001b[0m\u001b[0;34m.\u001b[0m\u001b[0munpack\u001b[0m\u001b[0;34m(\u001b[0m\u001b[0;34m'>32s8sdddd'\u001b[0m\u001b[0;34m,\u001b[0m \u001b[0mdata\u001b[0m\u001b[0;34m)\u001b[0m\u001b[0;34m\u001b[0m\u001b[0;34m\u001b[0m\u001b[0m\n",
      "\u001b[0;31mKeyboardInterrupt\u001b[0m: "
     ]
    }
   ],
   "source": [
    "import numpy as np\n",
    "import torch\n",
    "import torch.nn as nn\n",
    "import socket\n",
    "import struct\n",
    "\n",
    "model = torch.load(\"EEG_Model.pt\")\n",
    "\n",
    "def getBand(band):\n",
    "  data, addr = sock.recvfrom(1024) # buffer size is 1024 bytes\n",
    "  if band in str(data):\n",
    "    EEG = struct.unpack('>32s8sdddd', data)\n",
    "    #print(EEG[-3:-1])\n",
    "    return np.array(EEG[-3:-1])\n",
    "UDP_IP = \"127.0.0.1\"\n",
    "UDP_PORT = 6000\n",
    "\n",
    "sock = socket.socket(socket.AF_INET, # Internet\n",
    "                     socket.SOCK_DGRAM) # UDP\n",
    "sock.bind((UDP_IP, UDP_PORT))\n",
    "def get_focus():\n",
    "    average = np.array([0, 0], dtype='float64')\n",
    "    for i in range(25):        \n",
    "        eegData = getBand(\"gamma\")\n",
    "        if eegData is not None:\n",
    "            #print(eegData)\n",
    "            average += eegData\n",
    "    average /= 5\n",
    "    average = np.array([average])\n",
    "    \n",
    "    prediction = model(average)\n",
    "    prediction = [prediction[0][0]*100, prediction[0][1]*100]\n",
    "    \n",
    "    prediction[0] = round(prediction[0])\n",
    "    prediction[1] = round(prediction[1])\n",
    "    \n",
    "    final = ''\n",
    "    '''\n",
    "    if abs(prediction[0] - prediction[1]) <= 10:\n",
    "        final = 'Neutral'\n",
    "    elif prediction[0] > prediction[1]:\n",
    "        final = 'Concentrated'\n",
    "    else:\n",
    "        final = 'Relaxed'\n",
    "    '''\n",
    "    if prediction[0] >= 50:\n",
    "        final=\"Concentrated\"\n",
    "    else:\n",
    "        final=\"Relaxed\"\n",
    "    \n",
    "    #print(\"C: \", str(prediction[0])+\"%\" , \"R\", str(prediction[1])+\"%\", average, final)\n",
    "    #print(int(prediction[0]))\n",
    "    return int(prediction[0])\n",
    "#import pygame as pg\n",
    "#pg.init()\n",
    "#screen = pg.display.set_mode((300, 300))\n",
    "#clock = pg.time.Clock()\n",
    "#focus = pg.Rect(100, 200, 50 , -100)\n",
    "#running = True\n",
    "#while running:\n",
    "#    for event in pg.event.get():\n",
    "#        if event.type == pg.QUIT:\n",
    "#            pg.quit()\n",
    "            #Running = False            \n",
    "focus = get_focus()\n",
    "print(focus)\n",
    "    #pg.draw.rect(screen, (0, 0, 255), (100, 200 - focus, 50 , focus))\n",
    "    #pg.display.update()\n",
    "    #clock.tick(60)"
   ]
  },
  {
   "cell_type": "code",
   "execution_count": null,
   "metadata": {},
   "outputs": [],
   "source": []
  },
  {
   "cell_type": "code",
   "execution_count": null,
   "metadata": {},
   "outputs": [],
   "source": []
  }
 ],
 "metadata": {
  "kernelspec": {
   "display_name": "Python 3",
   "language": "python",
   "name": "python3"
  },
  "language_info": {
   "codemirror_mode": {
    "name": "ipython",
    "version": 3
   },
   "file_extension": ".py",
   "mimetype": "text/x-python",
   "name": "python",
   "nbconvert_exporter": "python",
   "pygments_lexer": "ipython3",
   "version": "3.6.9"
  }
 },
 "nbformat": 4,
 "nbformat_minor": 2
}
